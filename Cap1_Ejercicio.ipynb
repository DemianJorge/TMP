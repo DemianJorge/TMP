{
 "cells": [
  {
   "cell_type": "code",
   "execution_count": 1,
   "metadata": {},
   "outputs": [
    {
     "name": "stdout",
     "output_type": "stream",
     "text": [
      "Populating the interactive namespace from numpy and matplotlib\n"
     ]
    }
   ],
   "source": [
    "%pylab inline\n",
    "# from pylab import *"
   ]
  },
  {
   "cell_type": "markdown",
   "metadata": {},
   "source": [
    "Una partícula en una dimensión tiene\n",
    "\n",
    "\\begin{eqnarray}\n",
    "\\displaystyle \\Psi(x,t=0)=\\frac{1}{\\sqrt{a}} e^{-|x|/a }\\,,\n",
    "\\end{eqnarray}\n",
    "\n",
    "donde $a =1.0000\\,{\\rm nm}$. Al tiempo $t=0$ la posición de la partícula es medida. \n",
    "\n",
    "(a) Encuentra la probabilida de encontrar a la partícula entre $x = 1.5000\\,{\\rm nm}$ y $x =1.5001\\,{\\rm nm}$."
   ]
  },
  {
   "cell_type": "code",
   "execution_count": 2,
   "metadata": {},
   "outputs": [
    {
     "name": "stdout",
     "output_type": "stream",
     "text": [
      "Ψ(x=1.5000 nm,t=0) = 0.22313 1/nm\n",
      "\n",
      "Ψ(x=1.5001 nm,t=0) = 0.22311 1/nm\n",
      "\n"
     ]
    }
   ],
   "source": [
    "a = 1.0     # nm\n",
    "x = 1.5000  # nm\n",
    "Ψ = (1/sqrt(a))*exp(-abs(x)/a)\n",
    "print (\"Ψ(x={0:.4f} nm,t=0) = {1:.5f} 1/nm\\n\".format(x,Ψ))\n",
    "\n",
    "\n",
    "x = 1.5001  # nm\n",
    "Ψ = (1/sqrt(a))*exp(-abs(x)/a)\n",
    "print (\"Ψ(x={0:.4f} nm,t=0) = {1:.5f} 1/nm\\n\".format(x,Ψ))"
   ]
  },
  {
   "cell_type": "markdown",
   "metadata": {},
   "source": [
    "(b) Encuentre la probabilidad de medir la posición de la partícula en el intervalo $x=0$ y $x=2\\,{\\rm nm}$."
   ]
  },
  {
   "cell_type": "code",
   "execution_count": 3,
   "metadata": {},
   "outputs": [
    {
     "name": "stdout",
     "output_type": "stream",
     "text": [
      "Pr(0<x<2) = 0.4908\n"
     ]
    }
   ],
   "source": [
    "xmin = 0; xmax = 2\n",
    "x    = linspace(xmin,xmax,1000)\n",
    "Ψ    = (1/sqrt(a))*exp(-abs(x)/a)\n",
    "Ψ2   = Ψ*Ψ\n",
    "Int  = trapz(Ψ2,x)\n",
    "print (\"Pr(0<x<2) = {0:.4f}\".format(Int))"
   ]
  },
  {
   "cell_type": "markdown",
   "metadata": {},
   "source": [
    "(c) Verifique que $\\Psi$ está normalizada"
   ]
  },
  {
   "cell_type": "code",
   "execution_count": 4,
   "metadata": {},
   "outputs": [
    {
     "name": "stdout",
     "output_type": "stream",
     "text": [
      "Pr(-\\infty<x<\\infty) = 0.9999333\n"
     ]
    }
   ],
   "source": [
    "xmin = -1000; xmax = 1000\n",
    "x    = linspace(xmin,xmax,100000)\n",
    "Ψ    = (1/sqrt(a))*exp(-abs(x)/a)\n",
    "Ψ2   = Ψ*Ψ\n",
    "Pr   = trapz(Ψ2,x)\n",
    "print (\"Pr(-\\infty<x<\\infty) = {0:.7f}\".format(Pr))"
   ]
  },
  {
   "cell_type": "markdown",
   "metadata": {},
   "source": [
    "---"
   ]
  },
  {
   "cell_type": "markdown",
   "metadata": {},
   "source": [
    "Considere un sistema cuya función de estado en el tiempo fijo es\n",
    "\\begin{eqnarray}\n",
    "\\Psi = \\bigg( \\frac{32 a^3}{\\pi} \\bigg)^{1/4} x e^{-ax^2}\\,,\n",
    "\\end{eqnarray}\n",
    "donde $a=1.0000\\,{\\rm nm^{-2}}$, encuentre la posición de que se encuentre la partícula en el intervalo $x=1.2000\\,{\\rm nm}$ y $x=1.2001\\,{\\rm nm}$. Trate el intervalo como infinitesimal."
   ]
  },
  {
   "cell_type": "code",
   "execution_count": 5,
   "metadata": {},
   "outputs": [
    {
     "name": "stdout",
     "output_type": "stream",
     "text": [
      "|Ψ|^2 dx = 0.0000258\n",
      "\n"
     ]
    }
   ],
   "source": [
    "a  = 1.0 # nm^-2\n",
    "x  = 1.2000\n",
    "dx = 1.2001 - x\n",
    "π  = pi\n",
    "Ψ  = ((32*a*a*a/π)**0.25 )*x*exp(-a*x*x)\n",
    "Ψ2 = Ψ*Ψ\n",
    "Pr = Ψ2*dx\n",
    "print (\"|Ψ|^2 dx = {0:.7f}\\n\".format(Pr))"
   ]
  },
  {
   "cell_type": "code",
   "execution_count": null,
   "metadata": {},
   "outputs": [],
   "source": []
  },
  {
   "cell_type": "code",
   "execution_count": null,
   "metadata": {},
   "outputs": [],
   "source": []
  }
 ],
 "metadata": {
  "kernelspec": {
   "display_name": "Python 3",
   "language": "python",
   "name": "python3"
  },
  "language_info": {
   "codemirror_mode": {
    "name": "ipython",
    "version": 3
   },
   "file_extension": ".py",
   "mimetype": "text/x-python",
   "name": "python",
   "nbconvert_exporter": "python",
   "pygments_lexer": "ipython3",
   "version": "3.5.2"
  }
 },
 "nbformat": 4,
 "nbformat_minor": 2
}
